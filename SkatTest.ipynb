{
 "cells": [
  {
   "cell_type": "code",
   "execution_count": 48,
   "id": "e5c35bc7-ecf5-488c-b5e0-0014e213877c",
   "metadata": {},
   "outputs": [
    {
     "name": "stdout",
     "output_type": "stream",
     "text": [
      "Looking in indexes: https://nexus.iisys.de/repository/ki-awz-pypi-group/simple, https://pypi.org/simple\n",
      "Requirement already satisfied: roboflow in /opt/conda/lib/python3.10/site-packages (1.1.53)\n",
      "Requirement already satisfied: tensorflow in /opt/conda/lib/python3.10/site-packages (2.13.0)\n",
      "Requirement already satisfied: certifi in /opt/conda/lib/python3.10/site-packages (from roboflow) (2023.7.22)\n",
      "Requirement already satisfied: idna==3.7 in /opt/conda/lib/python3.10/site-packages (from roboflow) (3.7)\n",
      "Requirement already satisfied: cycler in /opt/conda/lib/python3.10/site-packages (from roboflow) (0.11.0)\n",
      "Requirement already satisfied: kiwisolver>=1.3.1 in /opt/conda/lib/python3.10/site-packages (from roboflow) (1.4.5)\n",
      "Requirement already satisfied: matplotlib in /opt/conda/lib/python3.10/site-packages (from roboflow) (3.7.2)\n",
      "Requirement already satisfied: numpy>=1.18.5 in /opt/conda/lib/python3.10/site-packages (from roboflow) (1.24.3)\n",
      "Requirement already satisfied: opencv-python-headless==4.10.0.84 in /opt/conda/lib/python3.10/site-packages (from roboflow) (4.10.0.84)\n",
      "Requirement already satisfied: Pillow>=7.1.2 in /opt/conda/lib/python3.10/site-packages (from roboflow) (10.0.0)\n",
      "Requirement already satisfied: python-dateutil in /opt/conda/lib/python3.10/site-packages (from roboflow) (2.8.2)\n",
      "Requirement already satisfied: python-dotenv in /opt/conda/lib/python3.10/site-packages (from roboflow) (1.0.1)\n",
      "Requirement already satisfied: requests in /opt/conda/lib/python3.10/site-packages (from roboflow) (2.31.0)\n",
      "Requirement already satisfied: six in /opt/conda/lib/python3.10/site-packages (from roboflow) (1.16.0)\n",
      "Requirement already satisfied: urllib3>=1.26.6 in /opt/conda/lib/python3.10/site-packages (from roboflow) (2.0.4)\n",
      "Requirement already satisfied: tqdm>=4.41.0 in /opt/conda/lib/python3.10/site-packages (from roboflow) (4.66.1)\n",
      "Requirement already satisfied: PyYAML>=5.3.1 in /opt/conda/lib/python3.10/site-packages (from roboflow) (6.0.1)\n",
      "Requirement already satisfied: requests-toolbelt in /opt/conda/lib/python3.10/site-packages (from roboflow) (1.0.0)\n",
      "Requirement already satisfied: filetype in /opt/conda/lib/python3.10/site-packages (from roboflow) (1.2.0)\n",
      "Requirement already satisfied: absl-py>=1.0.0 in /opt/conda/lib/python3.10/site-packages (from tensorflow) (1.4.0)\n",
      "Requirement already satisfied: astunparse>=1.6.0 in /opt/conda/lib/python3.10/site-packages (from tensorflow) (1.6.3)\n",
      "Requirement already satisfied: flatbuffers>=23.1.21 in /opt/conda/lib/python3.10/site-packages (from tensorflow) (23.5.26)\n",
      "Requirement already satisfied: gast<=0.4.0,>=0.2.1 in /opt/conda/lib/python3.10/site-packages (from tensorflow) (0.4.0)\n",
      "Requirement already satisfied: google-pasta>=0.1.1 in /opt/conda/lib/python3.10/site-packages (from tensorflow) (0.2.0)\n",
      "Requirement already satisfied: grpcio<2.0,>=1.24.3 in /opt/conda/lib/python3.10/site-packages (from tensorflow) (1.56.2)\n",
      "Requirement already satisfied: h5py>=2.9.0 in /opt/conda/lib/python3.10/site-packages (from tensorflow) (3.9.0)\n",
      "Requirement already satisfied: keras<2.14,>=2.13.1 in /opt/conda/lib/python3.10/site-packages (from tensorflow) (2.13.1)\n",
      "Requirement already satisfied: libclang>=13.0.0 in /opt/conda/lib/python3.10/site-packages (from tensorflow) (16.0.6)\n",
      "Requirement already satisfied: opt-einsum>=2.3.2 in /opt/conda/lib/python3.10/site-packages (from tensorflow) (3.3.0)\n",
      "Requirement already satisfied: packaging in /opt/conda/lib/python3.10/site-packages (from tensorflow) (23.1)\n",
      "Requirement already satisfied: protobuf!=4.21.0,!=4.21.1,!=4.21.2,!=4.21.3,!=4.21.4,!=4.21.5,<5.0.0dev,>=3.20.3 in /opt/conda/lib/python3.10/site-packages (from tensorflow) (4.23.3)\n",
      "Requirement already satisfied: setuptools in /opt/conda/lib/python3.10/site-packages (from tensorflow) (68.1.2)\n",
      "Requirement already satisfied: tensorboard<2.14,>=2.13 in /opt/conda/lib/python3.10/site-packages (from tensorflow) (2.13.0)\n",
      "Requirement already satisfied: tensorflow-estimator<2.14,>=2.13.0 in /opt/conda/lib/python3.10/site-packages (from tensorflow) (2.13.0)\n",
      "Requirement already satisfied: termcolor>=1.1.0 in /opt/conda/lib/python3.10/site-packages (from tensorflow) (2.3.0)\n",
      "Requirement already satisfied: typing-extensions<4.6.0,>=3.6.6 in /opt/conda/lib/python3.10/site-packages (from tensorflow) (4.5.0)\n",
      "Requirement already satisfied: wrapt>=1.11.0 in /opt/conda/lib/python3.10/site-packages (from tensorflow) (1.15.0)\n",
      "Requirement already satisfied: tensorflow-io-gcs-filesystem>=0.23.1 in /opt/conda/lib/python3.10/site-packages (from tensorflow) (0.34.0)\n",
      "Requirement already satisfied: wheel<1.0,>=0.23.0 in /opt/conda/lib/python3.10/site-packages (from astunparse>=1.6.0->tensorflow) (0.41.2)\n",
      "Requirement already satisfied: google-auth<3,>=1.6.3 in /opt/conda/lib/python3.10/site-packages (from tensorboard<2.14,>=2.13->tensorflow) (2.17.3)\n",
      "Requirement already satisfied: google-auth-oauthlib<1.1,>=0.5 in /opt/conda/lib/python3.10/site-packages (from tensorboard<2.14,>=2.13->tensorflow) (1.0.0)\n",
      "Requirement already satisfied: markdown>=2.6.8 in /opt/conda/lib/python3.10/site-packages (from tensorboard<2.14,>=2.13->tensorflow) (3.4.4)\n",
      "Requirement already satisfied: tensorboard-data-server<0.8.0,>=0.7.0 in /opt/conda/lib/python3.10/site-packages (from tensorboard<2.14,>=2.13->tensorflow) (0.7.0)\n",
      "Requirement already satisfied: werkzeug>=1.0.1 in /opt/conda/lib/python3.10/site-packages (from tensorboard<2.14,>=2.13->tensorflow) (2.3.7)\n",
      "Requirement already satisfied: charset-normalizer<4,>=2 in /opt/conda/lib/python3.10/site-packages (from requests->roboflow) (3.2.0)\n",
      "Requirement already satisfied: contourpy>=1.0.1 in /opt/conda/lib/python3.10/site-packages (from matplotlib->roboflow) (1.1.0)\n",
      "Requirement already satisfied: fonttools>=4.22.0 in /opt/conda/lib/python3.10/site-packages (from matplotlib->roboflow) (4.42.1)\n",
      "Requirement already satisfied: pyparsing<3.1,>=2.3.1 in /opt/conda/lib/python3.10/site-packages (from matplotlib->roboflow) (3.0.9)\n",
      "Requirement already satisfied: cachetools<6.0,>=2.0.0 in /opt/conda/lib/python3.10/site-packages (from google-auth<3,>=1.6.3->tensorboard<2.14,>=2.13->tensorflow) (5.3.1)\n",
      "Requirement already satisfied: pyasn1-modules>=0.2.1 in /opt/conda/lib/python3.10/site-packages (from google-auth<3,>=1.6.3->tensorboard<2.14,>=2.13->tensorflow) (0.2.7)\n",
      "Requirement already satisfied: rsa<5,>=3.1.4 in /opt/conda/lib/python3.10/site-packages (from google-auth<3,>=1.6.3->tensorboard<2.14,>=2.13->tensorflow) (4.9)\n",
      "Requirement already satisfied: requests-oauthlib>=0.7.0 in /opt/conda/lib/python3.10/site-packages (from google-auth-oauthlib<1.1,>=0.5->tensorboard<2.14,>=2.13->tensorflow) (1.3.1)\n",
      "Requirement already satisfied: MarkupSafe>=2.1.1 in /opt/conda/lib/python3.10/site-packages (from werkzeug>=1.0.1->tensorboard<2.14,>=2.13->tensorflow) (2.1.3)\n",
      "Requirement already satisfied: pyasn1<0.5.0,>=0.4.6 in /opt/conda/lib/python3.10/site-packages (from pyasn1-modules>=0.2.1->google-auth<3,>=1.6.3->tensorboard<2.14,>=2.13->tensorflow) (0.4.8)\n",
      "Requirement already satisfied: oauthlib>=3.0.0 in /opt/conda/lib/python3.10/site-packages (from requests-oauthlib>=0.7.0->google-auth-oauthlib<1.1,>=0.5->tensorboard<2.14,>=2.13->tensorflow) (3.2.2)\n"
     ]
    }
   ],
   "source": [
    "!pip install roboflow tensorflow"
   ]
  },
  {
   "cell_type": "code",
   "execution_count": 49,
   "id": "9953f55c-8e77-4aee-b8d4-15b0d1da4a52",
   "metadata": {},
   "outputs": [],
   "source": [
    "import tensorflow as tf\n",
    "from tensorflow import keras\n",
    "from tensorflow.keras import layers, models\n",
    "import matplotlib.pyplot as plt\n",
    "import numpy as np\n",
    "from roboflow import Roboflow\n",
    "import os\n",
    "\n",
    "\n",
    "from roboflow import Roboflow\n",
    "# Importing everything we need"
   ]
  },
  {
   "cell_type": "code",
   "execution_count": 50,
   "id": "0313c0fd-8830-43ad-b2b8-cf9a8acd01cd",
   "metadata": {},
   "outputs": [
    {
     "name": "stdout",
     "output_type": "stream",
     "text": [
      "loading Roboflow workspace...\n",
      "{\n",
      "  \"name\": \"Applied ML\",\n",
      "  \"url\": \"applied-ml-mfpdq\",\n",
      "  \"projects\": [\n",
      "    \"applied-ml-mfpdq/applied-ai-ex1\",\n",
      "    \"applied-ml-mfpdq/appliedml\",\n",
      "    \"applied-ml-mfpdq/hard-hat-sample-21iyb\"\n",
      "  ]\n",
      "}\n",
      "loading Roboflow workspace...\n",
      "loading Roboflow project...\n"
     ]
    }
   ],
   "source": [
    "# Download the dataset from Roboflow\n",
    "rf = Roboflow(api_key=\"OfJXwcSp4PUxeBveCeQ5\")\n",
    "print(rf.workspace())\n",
    "project = rf.workspace(\"applied-ml-mfpdq\").project(\"appliedml\")\n",
    "dataset = project.version(1).download(\"folder\")"
   ]
  },
  {
   "cell_type": "code",
   "execution_count": 51,
   "id": "fad11aa0-490e-49cc-b8d3-8840db923303",
   "metadata": {},
   "outputs": [
    {
     "name": "stdout",
     "output_type": "stream",
     "text": [
      "Found 1448 files belonging to 4 classes.\n",
      "Found 414 files belonging to 4 classes.\n",
      "Found 218 files belonging to 4 classes.\n",
      "Classes: ['acorns', 'bells', 'hearts', 'leaves']\n"
     ]
    }
   ],
   "source": [
    "# Define parameters\n",
    "IMG_HEIGHT = 640\n",
    "IMG_WIDTH = 640\n",
    "BATCH_SIZE = 32\n",
    "\n",
    "# Create the training dataset\n",
    "train_ds = tf.keras.preprocessing.image_dataset_from_directory(\n",
    "    os.path.join(dataset.location, \"train\"),\n",
    "    image_size=(IMG_HEIGHT, IMG_WIDTH),\n",
    "    batch_size=BATCH_SIZE,\n",
    "    shuffle=True\n",
    ")\n",
    "\n",
    "# Create the validation dataset\n",
    "val_ds = tf.keras.preprocessing.image_dataset_from_directory(\n",
    "    os.path.join(dataset.location, \"valid\"),\n",
    "    image_size=(IMG_HEIGHT, IMG_WIDTH),\n",
    "    batch_size=BATCH_SIZE,\n",
    "    shuffle=True\n",
    ")\n",
    "\n",
    "# Load the test dataset\n",
    "test_ds = tf.keras.preprocessing.image_dataset_from_directory(\n",
    "    os.path.join(dataset.location, \"test\"),\n",
    "    image_size=(IMG_HEIGHT, IMG_WIDTH),\n",
    "    batch_size=BATCH_SIZE,\n",
    "    shuffle=False  # No shuffling for test dataset evaluation\n",
    ")\n",
    "\n",
    "# Print class names (in this case, the suites of german-suited playing cards)\n",
    "class_names = train_ds.class_names\n",
    "num_classes = len(class_names)\n",
    "print(\"Classes:\", class_names)\n"
   ]
  },
  {
   "cell_type": "code",
   "execution_count": 52,
   "id": "1aa78369-34ad-42ea-b9c6-5ea690ba2b4a",
   "metadata": {},
   "outputs": [],
   "source": [
    "# Make use of data augmentation to increase th diveristy in our dataset\n",
    "data_augmentation = keras.Sequential(\n",
    "    [\n",
    "        layers.RandomFlip(\"horizontal\"),\n",
    "        layers.RandomRotation(0.1),\n",
    "    ]\n",
    ")\n"
   ]
  },
  {
   "cell_type": "code",
   "execution_count": 53,
   "id": "7b73af6c-a733-4985-b284-c9eed5472327",
   "metadata": {},
   "outputs": [
    {
     "name": "stdout",
     "output_type": "stream",
     "text": [
      "WARNING:tensorflow:`input_shape` is undefined or non-square, or `rows` is not in [96, 128, 160, 192, 224]. Weights for input shape (224, 224) will be loaded as the default.\n",
      "Model: \"model_2\"\n",
      "_________________________________________________________________\n",
      " Layer (type)                Output Shape              Param #   \n",
      "=================================================================\n",
      " input_6 (InputLayer)        [(None, 640, 640, 3)]     0         \n",
      "                                                                 \n",
      " sequential_2 (Sequential)   (None, 640, 640, 3)       0         \n",
      "                                                                 \n",
      " tf.math.truediv_2 (TFOpLam  (None, 640, 640, 3)       0         \n",
      " bda)                                                            \n",
      "                                                                 \n",
      " tf.math.subtract_2 (TFOpLa  (None, 640, 640, 3)       0         \n",
      " mbda)                                                           \n",
      "                                                                 \n",
      " mobilenetv2_1.00_224 (Func  (None, 20, 20, 1280)      2257984   \n",
      " tional)                                                         \n",
      "                                                                 \n",
      " global_average_pooling2d_2  (None, 1280)              0         \n",
      "  (GlobalAveragePooling2D)                                       \n",
      "                                                                 \n",
      " dense_2 (Dense)             (None, 4)                 5124      \n",
      "                                                                 \n",
      "=================================================================\n",
      "Total params: 2263108 (8.63 MB)\n",
      "Trainable params: 5124 (20.02 KB)\n",
      "Non-trainable params: 2257984 (8.61 MB)\n",
      "_________________________________________________________________\n"
     ]
    }
   ],
   "source": [
    "# Define the input shape for our images\n",
    "IMG_SHAPE = (IMG_HEIGHT, IMG_WIDTH, 3)\n",
    "\n",
    "# Load the MobileNetV2 model without the top classification layer\n",
    "base_model = tf.keras.applications.MobileNetV2(\n",
    "    input_shape=IMG_SHAPE,\n",
    "    include_top=False,\n",
    "    weights=\"imagenet\"\n",
    ")\n",
    "base_model.trainable = False  # Freeze the convolutional base\n",
    "\n",
    "# Build the classification model\n",
    "inputs = keras.Input(shape=IMG_SHAPE)\n",
    "x = data_augmentation(inputs)  # Optional data augmentation\n",
    "x = tf.keras.applications.mobilenet_v2.preprocess_input(x)\n",
    "x = base_model(x, training=False)\n",
    "x = layers.GlobalAveragePooling2D()(x)\n",
    "outputs = layers.Dense(num_classes, activation=\"softmax\")(x)\n",
    "model = keras.Model(inputs, outputs)\n",
    "\n",
    "# Compile the model\n",
    "model.compile(optimizer=keras.optimizers.Adam(),\n",
    "              loss=\"sparse_categorical_crossentropy\",\n",
    "              metrics=[\"accuracy\"])\n",
    "\n",
    "# Display model architecture\n",
    "model.summary()\n"
   ]
  },
  {
   "cell_type": "code",
   "execution_count": 54,
   "id": "88fef0e0-ab71-45c4-9531-e42790a9d6c2",
   "metadata": {},
   "outputs": [
    {
     "name": "stdout",
     "output_type": "stream",
     "text": [
      "Epoch 1/15\n",
      "46/46 [==============================] - 11s 190ms/step - loss: 1.1751 - accuracy: 0.5110 - val_loss: 0.9052 - val_accuracy: 0.7464\n",
      "Epoch 2/15\n",
      "46/46 [==============================] - 8s 177ms/step - loss: 0.7431 - accuracy: 0.8004 - val_loss: 0.6947 - val_accuracy: 0.7464\n",
      "Epoch 3/15\n",
      "46/46 [==============================] - 8s 176ms/step - loss: 0.5538 - accuracy: 0.8729 - val_loss: 0.5219 - val_accuracy: 0.8865\n",
      "Epoch 4/15\n",
      "46/46 [==============================] - 8s 174ms/step - loss: 0.4189 - accuracy: 0.9282 - val_loss: 0.4209 - val_accuracy: 0.9396\n",
      "Epoch 5/15\n",
      "46/46 [==============================] - 8s 175ms/step - loss: 0.3412 - accuracy: 0.9572 - val_loss: 0.3625 - val_accuracy: 0.9444\n",
      "Epoch 6/15\n",
      "46/46 [==============================] - 8s 177ms/step - loss: 0.2864 - accuracy: 0.9731 - val_loss: 0.3096 - val_accuracy: 0.9565\n",
      "Epoch 7/15\n",
      "46/46 [==============================] - 8s 177ms/step - loss: 0.2431 - accuracy: 0.9827 - val_loss: 0.2658 - val_accuracy: 0.9710\n",
      "Epoch 8/15\n",
      "46/46 [==============================] - 8s 175ms/step - loss: 0.2076 - accuracy: 0.9890 - val_loss: 0.2329 - val_accuracy: 0.9734\n",
      "Epoch 9/15\n",
      "46/46 [==============================] - 8s 176ms/step - loss: 0.1857 - accuracy: 0.9890 - val_loss: 0.2095 - val_accuracy: 0.9831\n",
      "Epoch 10/15\n",
      "46/46 [==============================] - 8s 176ms/step - loss: 0.1609 - accuracy: 0.9945 - val_loss: 0.2018 - val_accuracy: 0.9831\n",
      "Epoch 11/15\n",
      "46/46 [==============================] - 8s 177ms/step - loss: 0.1445 - accuracy: 0.9917 - val_loss: 0.1679 - val_accuracy: 0.9903\n",
      "Epoch 12/15\n",
      "46/46 [==============================] - 8s 177ms/step - loss: 0.1322 - accuracy: 0.9945 - val_loss: 0.1589 - val_accuracy: 0.9952\n",
      "Epoch 13/15\n",
      "46/46 [==============================] - 8s 176ms/step - loss: 0.1189 - accuracy: 0.9952 - val_loss: 0.1444 - val_accuracy: 0.9952\n",
      "Epoch 14/15\n",
      "46/46 [==============================] - 8s 176ms/step - loss: 0.1067 - accuracy: 0.9959 - val_loss: 0.1372 - val_accuracy: 0.9928\n",
      "Epoch 15/15\n",
      "46/46 [==============================] - 8s 175ms/step - loss: 0.0988 - accuracy: 0.9972 - val_loss: 0.1282 - val_accuracy: 0.9952\n"
     ]
    }
   ],
   "source": [
    "EPOCHS = 15\n",
    "\n",
    "history = model.fit(\n",
    "    train_ds,\n",
    "    validation_data=val_ds,\n",
    "    epochs=EPOCHS\n",
    ")\n"
   ]
  },
  {
   "cell_type": "code",
   "execution_count": 55,
   "id": "0cc6a32a-233a-4fe9-a029-3c62e79810a2",
   "metadata": {},
   "outputs": [
    {
     "data": {
      "image/png": "[encoded data removed]",
      "text/plain": [
       "<Figure size 1200x600 with 2 Axes>"
      ]
     },
     "metadata": {},
     "output_type": "display_data"
    }
   ],
   "source": [
    "acc = history.history[\"accuracy\"]\n",
    "val_acc = history.history[\"val_accuracy\"]\n",
    "loss = history.history[\"loss\"]\n",
    "val_loss = history.history[\"val_loss\"]\n",
    "epochs_range = range(EPOCHS)\n",
    "\n",
    "plt.figure(figsize=(12, 6))\n",
    "plt.subplot(1, 2, 1)\n",
    "plt.plot(epochs_range, acc, label=\"Training Accuracy\")\n",
    "plt.plot(epochs_range, val_acc, label=\"Validation Accuracy\")\n",
    "plt.legend(loc=\"lower right\")\n",
    "plt.title(\"Training and Validation Accuracy\")\n",
    "\n",
    "plt.subplot(1, 2, 2)\n",
    "plt.plot(epochs_range, loss, label=\"Training Loss\")\n",
    "plt.plot(epochs_range, val_loss, label=\"Validation Loss\")\n",
    "plt.legend(loc=\"upper right\")\n",
    "plt.title(\"Training and Validation Loss\")\n",
    "plt.show()\n"
   ]
  },
  {
   "cell_type": "code",
   "execution_count": 56,
   "id": "b656ebe1-a75a-49be-be92-5e84102ee20b",
   "metadata": {},
   "outputs": [
    {
     "name": "stdout",
     "output_type": "stream",
     "text": [
      "7/7 [==============================] - 1s 128ms/step - loss: 0.1069 - accuracy: 1.0000\n",
      "Test Accuracy: 1.0\n"
     ]
    }
   ],
   "source": [
    "test_loss, test_acc = model.evaluate(test_ds)\n",
    "print(\"Test Accuracy:\", test_acc)"
   ]
  },
  {
   "cell_type": "code",
   "execution_count": 57,
   "id": "5377f1eb-3d36-4962-9abb-a31aea77d4af",
   "metadata": {},
   "outputs": [
    {
     "name": "stdout",
     "output_type": "stream",
     "text": [
      "1/1 [==============================] - 0s 498ms/step\n",
      "Predicted class for the new image: acorns\n",
      "1/1 [==============================] - 0s 28ms/step\n",
      "Predicted class for the new image: leaves\n"
     ]
    }
   ],
   "source": [
    "def load_and_preprocess_image(image_path):\n",
    "    # Load the image and resize it to match the training dimensions\n",
    "    img = tf.keras.preprocessing.image.load_img(image_path, target_size=(IMG_HEIGHT, IMG_WIDTH))\n",
    "    img_array = tf.keras.preprocessing.image.img_to_array(img)\n",
    "    img_array = tf.expand_dims(img_array, 0)  # Create a batch dimension\n",
    "    return img_array\n",
    "\n",
    "# Get the first image\n",
    "test_image_path = \"DemoImage1.jpg\"\n",
    "test_image = load_and_preprocess_image(test_image_path)\n",
    "\n",
    "# Predict the class of the image\n",
    "predictions = model.predict(test_image)\n",
    "predicted_class = class_names[np.argmax(predictions)]\n",
    "print(\"Predicted class for the new image:\", predicted_class)\n",
    "\n",
    "# Get the second image\n",
    "test_image_path = \"DemoImage2.jpg\"\n",
    "test_image = load_and_preprocess_image(test_image_path)\n",
    "\n",
    "# Predict the class of the image\n",
    "predictions = model.predict(test_image)\n",
    "predicted_class = class_names[np.argmax(predictions)]\n",
    "print(\"Predicted class for the new image:\", predicted_class)\n"
   ]
  },
  {
   "cell_type": "code",
   "execution_count": 24,
   "id": "03343bbf-5af6-45b6-b90a-1d35d0a7e57b",
   "metadata": {},
   "outputs": [
    {
     "data": {
      "text/plain": [
       "'/home/jovyan/AppliedMLProject/AppliedML-1.zip'"
      ]
     },
     "execution_count": 24,
     "metadata": {},
     "output_type": "execute_result"
    }
   ],
   "source": [
    "import shutil\n",
    "# To download the Dataset (images) locally to then upload in moodle\n",
    "folder_to_zip = \"AppliedML-1\"\n",
    "output_zip = \"AppliedML-1.zip\"\n",
    "\n",
    "shutil.make_archive(output_zip.replace('.zip', ''), 'zip', folder_to_zip)\n",
    "# shutil.rmtree('AppliedMLProject')"
   ]
  }
 ],
 "metadata": {
  "kernelspec": {
   "display_name": "Python 3 (ipykernel)",
   "language": "python",
   "name": "python3"
  },
  "language_info": {
   "codemirror_mode": {
    "name": "ipython",
    "version": 3
   },
   "file_extension": ".py",
   "mimetype": "text/x-python",
   "name": "python",
   "nbconvert_exporter": "python",
   "pygments_lexer": "ipython3",
   "version": "3.10.12"
  }
 },
 "nbformat": 4,
 "nbformat_minor": 5
}
